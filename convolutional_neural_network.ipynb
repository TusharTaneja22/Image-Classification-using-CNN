{
  "nbformat": 4,
  "nbformat_minor": 0,
  "metadata": {
    "colab": {
      "name": "convolutional_neural_network.ipynb",
      "provenance": [],
      "collapsed_sections": [],
      "toc_visible": true,
      "include_colab_link": true
    },
    "kernelspec": {
      "display_name": "Python 3",
      "language": "python",
      "name": "python3"
    },
    "language_info": {
      "codemirror_mode": {
        "name": "ipython",
        "version": 3
      },
      "file_extension": ".py",
      "mimetype": "text/x-python",
      "name": "python",
      "nbconvert_exporter": "python",
      "pygments_lexer": "ipython3",
      "version": "3.8.3"
    }
  },
  "cells": [
    {
      "cell_type": "markdown",
      "metadata": {
        "id": "view-in-github",
        "colab_type": "text"
      },
      "source": [
        "<a href=\"https://colab.research.google.com/github/TusharTaneja22/Image-Classification-using-CNN/blob/main/convolutional_neural_network.ipynb\" target=\"_parent\"><img src=\"https://colab.research.google.com/assets/colab-badge.svg\" alt=\"Open In Colab\"/></a>"
      ]
    },
    {
      "cell_type": "markdown",
      "metadata": {
        "id": "3DR-eO17geWu"
      },
      "source": [
        "# Convolutional Neural Network"
      ]
    },
    {
      "cell_type": "markdown",
      "metadata": {
        "id": "EMefrVPCg-60"
      },
      "source": [
        "### Importing the libraries"
      ]
    },
    {
      "cell_type": "code",
      "metadata": {
        "id": "sCV30xyVhFbE"
      },
      "source": [
        "import tensorflow as tf\n",
        "from keras.preprocessing.image import ImageDataGenerator"
      ],
      "execution_count": null,
      "outputs": []
    },
    {
      "cell_type": "code",
      "metadata": {
        "id": "FIleuCAjoFD8",
        "outputId": "64b99362-366a-400e-814c-6cc8a1ef42b2"
      },
      "source": [
        "tf.__version__"
      ],
      "execution_count": null,
      "outputs": [
        {
          "output_type": "execute_result",
          "data": {
            "text/plain": [
              "'2.5.0'"
            ]
          },
          "metadata": {
            "tags": []
          },
          "execution_count": 17
        }
      ]
    },
    {
      "cell_type": "markdown",
      "metadata": {
        "id": "oxQxCBWyoGPE"
      },
      "source": [
        "## Part 1 - Data Preprocessing"
      ]
    },
    {
      "cell_type": "markdown",
      "metadata": {
        "id": "MvE-heJNo3GG"
      },
      "source": [
        "### Preprocessing the Training set"
      ]
    },
    {
      "cell_type": "code",
      "metadata": {
        "id": "0koUcJMJpEBD",
        "outputId": "de0f958b-7dcf-4272-8fbc-dce510f70904"
      },
      "source": [
        "train_datagen = ImageDataGenerator(rescale = 1./255,\n",
        "                                   shear_range = 0.2,\n",
        "                                   zoom_range = 0.2,\n",
        "                                   horizontal_flip = True)\n",
        "training_set = train_datagen.flow_from_directory('dataset/training_set',\n",
        "                                                 target_size = (64, 64),\n",
        "                                                 batch_size = 32,\n",
        "                                                 class_mode = 'binary')"
      ],
      "execution_count": null,
      "outputs": [
        {
          "output_type": "stream",
          "text": [
            "Found 8000 images belonging to 2 classes.\n"
          ],
          "name": "stdout"
        }
      ]
    },
    {
      "cell_type": "markdown",
      "metadata": {
        "id": "mrCMmGw9pHys"
      },
      "source": [
        "### Preprocessing the Test set"
      ]
    },
    {
      "cell_type": "code",
      "metadata": {
        "id": "SH4WzfOhpKc3",
        "outputId": "6f112706-b6c6-4eec-ccc9-5ad24426b192"
      },
      "source": [
        "test_datagen = ImageDataGenerator(rescale = 1./255)\n",
        "test_set = test_datagen.flow_from_directory('dataset/test_set',\n",
        "                                            target_size = (64, 64),\n",
        "                                            batch_size = 32,\n",
        "                                            class_mode = 'binary')"
      ],
      "execution_count": null,
      "outputs": [
        {
          "output_type": "stream",
          "text": [
            "Found 1999 images belonging to 2 classes.\n"
          ],
          "name": "stdout"
        }
      ]
    },
    {
      "cell_type": "markdown",
      "metadata": {
        "id": "af8O4l90gk7B"
      },
      "source": [
        "## Part 2 - Building the CNN"
      ]
    },
    {
      "cell_type": "markdown",
      "metadata": {
        "id": "ces1gXY2lmoX"
      },
      "source": [
        "### Initialising the CNN"
      ]
    },
    {
      "cell_type": "code",
      "metadata": {
        "id": "SAUt4UMPlhLS"
      },
      "source": [
        "cnn = tf.keras.models.Sequential()"
      ],
      "execution_count": null,
      "outputs": []
    },
    {
      "cell_type": "markdown",
      "metadata": {
        "id": "u5YJj_XMl5LF"
      },
      "source": [
        "### Step 1 - Convolution"
      ]
    },
    {
      "cell_type": "code",
      "metadata": {
        "id": "XPzPrMckl-hV"
      },
      "source": [
        "cnn.add(tf.keras.layers.Conv2D(filters=32, kernel_size=3, activation='relu', input_shape=[64, 64, 3]))"
      ],
      "execution_count": null,
      "outputs": []
    },
    {
      "cell_type": "markdown",
      "metadata": {
        "id": "tf87FpvxmNOJ"
      },
      "source": [
        "### Step 2 - Pooling"
      ]
    },
    {
      "cell_type": "code",
      "metadata": {
        "id": "ncpqPl69mOac"
      },
      "source": [
        "cnn.add(tf.keras.layers.MaxPool2D(pool_size=2, strides=2))"
      ],
      "execution_count": null,
      "outputs": []
    },
    {
      "cell_type": "markdown",
      "metadata": {
        "id": "xaTOgD8rm4mU"
      },
      "source": [
        "### Adding a second convolutional layer"
      ]
    },
    {
      "cell_type": "code",
      "metadata": {
        "id": "i_-FZjn_m8gk"
      },
      "source": [
        "cnn.add(tf.keras.layers.Conv2D(filters=32, kernel_size=3, activation='relu'))\n",
        "cnn.add(tf.keras.layers.MaxPool2D(pool_size=2, strides=2))"
      ],
      "execution_count": null,
      "outputs": []
    },
    {
      "cell_type": "markdown",
      "metadata": {
        "id": "tmiEuvTunKfk"
      },
      "source": [
        "### Step 3 - Flattening"
      ]
    },
    {
      "cell_type": "code",
      "metadata": {
        "id": "6AZeOGCvnNZn"
      },
      "source": [
        "cnn.add(tf.keras.layers.Flatten())"
      ],
      "execution_count": null,
      "outputs": []
    },
    {
      "cell_type": "markdown",
      "metadata": {
        "id": "dAoSECOm203v"
      },
      "source": [
        "### Step 4 - Full Connection"
      ]
    },
    {
      "cell_type": "code",
      "metadata": {
        "id": "8GtmUlLd26Nq"
      },
      "source": [
        "cnn.add(tf.keras.layers.Dense(units=128, activation='relu'))"
      ],
      "execution_count": null,
      "outputs": []
    },
    {
      "cell_type": "markdown",
      "metadata": {
        "id": "yTldFvbX28Na"
      },
      "source": [
        "### Step 5 - Output Layer"
      ]
    },
    {
      "cell_type": "code",
      "metadata": {
        "id": "1p_Zj1Mc3Ko_"
      },
      "source": [
        "cnn.add(tf.keras.layers.Dense(units=1, activation='sigmoid'))"
      ],
      "execution_count": null,
      "outputs": []
    },
    {
      "cell_type": "markdown",
      "metadata": {
        "id": "D6XkI90snSDl"
      },
      "source": [
        "## Part 3 - Training the CNN"
      ]
    },
    {
      "cell_type": "markdown",
      "metadata": {
        "id": "vfrFQACEnc6i"
      },
      "source": [
        "### Compiling the CNN"
      ]
    },
    {
      "cell_type": "code",
      "metadata": {
        "id": "NALksrNQpUlJ"
      },
      "source": [
        "cnn.compile(optimizer = 'adam', loss = 'binary_crossentropy', metrics = ['accuracy'])"
      ],
      "execution_count": null,
      "outputs": []
    },
    {
      "cell_type": "markdown",
      "metadata": {
        "id": "ehS-v3MIpX2h"
      },
      "source": [
        "### Training the CNN on the Training set and evaluating it on the Test set"
      ]
    },
    {
      "cell_type": "code",
      "metadata": {
        "id": "XUj1W4PJptta",
        "outputId": "06e78625-f8bf-459d-89e3-67ffced76f93"
      },
      "source": [
        "cnn.fit(x = training_set, validation_data = test_set, epochs = 25)"
      ],
      "execution_count": null,
      "outputs": [
        {
          "output_type": "stream",
          "text": [
            "Epoch 1/25\n",
            "250/250 [==============================] - 588s 2s/step - loss: 0.6717 - accuracy: 0.5760 - val_loss: 0.6664 - val_accuracy: 0.5958\n",
            "Epoch 2/25\n",
            "250/250 [==============================] - 42s 167ms/step - loss: 0.5985 - accuracy: 0.6814 - val_loss: 0.5545 - val_accuracy: 0.7169\n",
            "Epoch 3/25\n",
            "250/250 [==============================] - 45s 180ms/step - loss: 0.5461 - accuracy: 0.7188 - val_loss: 0.5020 - val_accuracy: 0.7534\n",
            "Epoch 4/25\n",
            "250/250 [==============================] - 46s 186ms/step - loss: 0.5140 - accuracy: 0.7439 - val_loss: 0.5177 - val_accuracy: 0.7409\n",
            "Epoch 5/25\n",
            "250/250 [==============================] - 45s 181ms/step - loss: 0.4936 - accuracy: 0.7589 - val_loss: 0.4932 - val_accuracy: 0.7654\n",
            "Epoch 6/25\n",
            "250/250 [==============================] - 45s 181ms/step - loss: 0.4691 - accuracy: 0.7732 - val_loss: 0.5702 - val_accuracy: 0.7114\n",
            "Epoch 7/25\n",
            "250/250 [==============================] - 45s 181ms/step - loss: 0.4576 - accuracy: 0.7797 - val_loss: 0.5238 - val_accuracy: 0.7479\n",
            "Epoch 8/25\n",
            "250/250 [==============================] - 45s 180ms/step - loss: 0.4514 - accuracy: 0.7824 - val_loss: 0.4776 - val_accuracy: 0.7789\n",
            "Epoch 9/25\n",
            "250/250 [==============================] - 45s 181ms/step - loss: 0.4275 - accuracy: 0.8002 - val_loss: 0.5077 - val_accuracy: 0.7884\n",
            "Epoch 10/25\n",
            "250/250 [==============================] - 45s 181ms/step - loss: 0.4211 - accuracy: 0.7990 - val_loss: 0.4759 - val_accuracy: 0.7829\n",
            "Epoch 11/25\n",
            "250/250 [==============================] - 45s 180ms/step - loss: 0.4060 - accuracy: 0.8120 - val_loss: 0.4937 - val_accuracy: 0.7749\n",
            "Epoch 12/25\n",
            "250/250 [==============================] - 46s 182ms/step - loss: 0.3914 - accuracy: 0.8226 - val_loss: 0.5076 - val_accuracy: 0.7729\n",
            "Epoch 13/25\n",
            "250/250 [==============================] - 46s 182ms/step - loss: 0.3777 - accuracy: 0.8279 - val_loss: 0.5227 - val_accuracy: 0.7624\n",
            "Epoch 14/25\n",
            "250/250 [==============================] - 46s 185ms/step - loss: 0.3589 - accuracy: 0.8389 - val_loss: 0.5034 - val_accuracy: 0.7894\n",
            "Epoch 15/25\n",
            "250/250 [==============================] - 46s 183ms/step - loss: 0.3536 - accuracy: 0.8429 - val_loss: 0.4640 - val_accuracy: 0.7889\n",
            "Epoch 16/25\n",
            "250/250 [==============================] - 46s 185ms/step - loss: 0.3347 - accuracy: 0.8486 - val_loss: 0.4774 - val_accuracy: 0.7929\n",
            "Epoch 17/25\n",
            "250/250 [==============================] - 46s 184ms/step - loss: 0.3245 - accuracy: 0.8571 - val_loss: 0.4982 - val_accuracy: 0.7899\n",
            "Epoch 18/25\n",
            "250/250 [==============================] - 46s 184ms/step - loss: 0.3143 - accuracy: 0.8634 - val_loss: 0.5061 - val_accuracy: 0.7929\n",
            "Epoch 19/25\n",
            "250/250 [==============================] - 46s 182ms/step - loss: 0.2977 - accuracy: 0.8711 - val_loss: 0.5078 - val_accuracy: 0.8034\n",
            "Epoch 20/25\n",
            "250/250 [==============================] - 46s 185ms/step - loss: 0.2841 - accuracy: 0.8839 - val_loss: 0.5097 - val_accuracy: 0.8079\n",
            "Epoch 21/25\n",
            "250/250 [==============================] - 45s 182ms/step - loss: 0.2630 - accuracy: 0.8846 - val_loss: 0.5139 - val_accuracy: 0.8064\n",
            "Epoch 22/25\n",
            "250/250 [==============================] - 46s 184ms/step - loss: 0.2643 - accuracy: 0.8875 - val_loss: 0.5779 - val_accuracy: 0.7819\n",
            "Epoch 23/25\n",
            "250/250 [==============================] - 47s 188ms/step - loss: 0.2403 - accuracy: 0.8982 - val_loss: 0.5190 - val_accuracy: 0.8079\n",
            "Epoch 24/25\n",
            "250/250 [==============================] - 48s 191ms/step - loss: 0.2294 - accuracy: 0.9011 - val_loss: 0.5502 - val_accuracy: 0.7904\n",
            "Epoch 25/25\n",
            "250/250 [==============================] - 46s 185ms/step - loss: 0.2189 - accuracy: 0.9078 - val_loss: 0.5517 - val_accuracy: 0.7929\n"
          ],
          "name": "stdout"
        },
        {
          "output_type": "execute_result",
          "data": {
            "text/plain": [
              "<tensorflow.python.keras.callbacks.History at 0x28182692dc0>"
            ]
          },
          "metadata": {
            "tags": []
          },
          "execution_count": 30
        }
      ]
    },
    {
      "cell_type": "markdown",
      "metadata": {
        "id": "U3PZasO0006Z"
      },
      "source": [
        "## Part 4 - Making a single prediction"
      ]
    },
    {
      "cell_type": "code",
      "metadata": {
        "id": "gsSiWEJY1BPB"
      },
      "source": [
        "import numpy as np\n",
        "from keras.preprocessing import image\n",
        "test_image = image.load_img('dataset/single_prediction/cat_or_dog_2.jpg', target_size = (64, 64))\n",
        "test_image = image.img_to_array(test_image)\n",
        "test_image = np.expand_dims(test_image, axis = 0)\n",
        "result = cnn.predict(test_image)\n",
        "training_set.class_indices\n",
        "if result[0][0] == 1:\n",
        "  prediction = 'dog'\n",
        "else:\n",
        "  prediction = 'cat'"
      ],
      "execution_count": null,
      "outputs": []
    },
    {
      "cell_type": "code",
      "metadata": {
        "id": "ED9KB3I54c1i",
        "outputId": "51f14c8f-11ef-4b54-b925-60334c0d6b3c"
      },
      "source": [
        "print(prediction)"
      ],
      "execution_count": null,
      "outputs": [
        {
          "output_type": "stream",
          "text": [
            "dog\n"
          ],
          "name": "stdout"
        }
      ]
    }
  ]
}